{
 "cells": [
  {
   "cell_type": "code",
   "execution_count": 1,
   "metadata": {
    "colab": {},
    "colab_type": "code",
    "id": "M5EkrzM-1_JU"
   },
   "outputs": [],
   "source": [
    "#Imports\n",
    "import pandas as pd\n",
    "import numpy as np\n",
    "from tqdm import tqdm\n",
    "import copy"
   ]
  },
  {
   "cell_type": "code",
   "execution_count": 2,
   "metadata": {
    "colab": {
     "base_uri": "https://localhost:8080/",
     "height": 34
    },
    "colab_type": "code",
    "id": "q5m6vPje2hiy",
    "outputId": "09f7d3cc-88a7-4a7b-e8ba-775406b76ac5"
   },
   "outputs": [
    {
     "name": "stdout",
     "output_type": "stream",
     "text": [
      "Reading Dataset...\n"
     ]
    },
    {
     "data": {
      "text/html": [
       "<div>\n",
       "<style scoped>\n",
       "    .dataframe tbody tr th:only-of-type {\n",
       "        vertical-align: middle;\n",
       "    }\n",
       "\n",
       "    .dataframe tbody tr th {\n",
       "        vertical-align: top;\n",
       "    }\n",
       "\n",
       "    .dataframe thead th {\n",
       "        text-align: right;\n",
       "    }\n",
       "</style>\n",
       "<table border=\"1\" class=\"dataframe\">\n",
       "  <thead>\n",
       "    <tr style=\"text-align: right;\">\n",
       "      <th></th>\n",
       "      <th>id</th>\n",
       "      <th>tweet</th>\n",
       "      <th>subtask_a</th>\n",
       "      <th>subtask_b</th>\n",
       "      <th>subtask_c</th>\n",
       "    </tr>\n",
       "  </thead>\n",
       "  <tbody>\n",
       "    <tr>\n",
       "      <th>0</th>\n",
       "      <td>86426</td>\n",
       "      <td>@USER She should ask a few native Americans wh...</td>\n",
       "      <td>OFF</td>\n",
       "      <td>UNT</td>\n",
       "      <td>NaN</td>\n",
       "    </tr>\n",
       "    <tr>\n",
       "      <th>1</th>\n",
       "      <td>90194</td>\n",
       "      <td>@USER @USER Go home you’re drunk!!! @USER #MAG...</td>\n",
       "      <td>OFF</td>\n",
       "      <td>TIN</td>\n",
       "      <td>IND</td>\n",
       "    </tr>\n",
       "    <tr>\n",
       "      <th>2</th>\n",
       "      <td>16820</td>\n",
       "      <td>Amazon is investigating Chinese employees who ...</td>\n",
       "      <td>NOT</td>\n",
       "      <td>NaN</td>\n",
       "      <td>NaN</td>\n",
       "    </tr>\n",
       "    <tr>\n",
       "      <th>3</th>\n",
       "      <td>62688</td>\n",
       "      <td>@USER Someone should'veTaken\" this piece of sh...</td>\n",
       "      <td>OFF</td>\n",
       "      <td>UNT</td>\n",
       "      <td>NaN</td>\n",
       "    </tr>\n",
       "    <tr>\n",
       "      <th>4</th>\n",
       "      <td>43605</td>\n",
       "      <td>@USER @USER Obama wanted liberals &amp;amp; illega...</td>\n",
       "      <td>NOT</td>\n",
       "      <td>NaN</td>\n",
       "      <td>NaN</td>\n",
       "    </tr>\n",
       "  </tbody>\n",
       "</table>\n",
       "</div>"
      ],
      "text/plain": [
       "      id                                              tweet subtask_a  \\\n",
       "0  86426  @USER She should ask a few native Americans wh...       OFF   \n",
       "1  90194  @USER @USER Go home you’re drunk!!! @USER #MAG...       OFF   \n",
       "2  16820  Amazon is investigating Chinese employees who ...       NOT   \n",
       "3  62688  @USER Someone should'veTaken\" this piece of sh...       OFF   \n",
       "4  43605  @USER @USER Obama wanted liberals &amp; illega...       NOT   \n",
       "\n",
       "  subtask_b subtask_c  \n",
       "0       UNT       NaN  \n",
       "1       TIN       IND  \n",
       "2       NaN       NaN  \n",
       "3       UNT       NaN  \n",
       "4       NaN       NaN  "
      ]
     },
     "execution_count": 2,
     "metadata": {},
     "output_type": "execute_result"
    }
   ],
   "source": [
    "print(\"Reading Dataset...\")\n",
    "\n",
    "traind = 'datasets/training-v1/offenseval-training-v1.tsv'\n",
    "train_data = pd.read_csv(traind, sep='\\t', header=0)\n",
    "train_data.head()"
   ]
  },
  {
   "cell_type": "code",
   "execution_count": 3,
   "metadata": {},
   "outputs": [
    {
     "data": {
      "text/plain": [
       "array(['OFF', 'NOT'], dtype=object)"
      ]
     },
     "execution_count": 3,
     "metadata": {},
     "output_type": "execute_result"
    }
   ],
   "source": [
    "train_data['subtask_a'].unique()"
   ]
  },
  {
   "cell_type": "code",
   "execution_count": 4,
   "metadata": {},
   "outputs": [
    {
     "data": {
      "text/plain": [
       "array([nan, 'IND', 'OTH', 'GRP'], dtype=object)"
      ]
     },
     "execution_count": 4,
     "metadata": {},
     "output_type": "execute_result"
    }
   ],
   "source": [
    "train_data['subtask_c'].unique()"
   ]
  },
  {
   "cell_type": "code",
   "execution_count": 5,
   "metadata": {
    "colab": {},
    "colab_type": "code",
    "id": "ucASsaD24HvU"
   },
   "outputs": [],
   "source": [
    "tweets = train_data[[\"tweet\"]]\n",
    "subtask_a_labels = train_data[[\"subtask_a\"]]\n",
    "subtask_b_labels = train_data.query(\"subtask_a == 'OFF'\")[[\"subtask_b\"]]\n",
    "subtask_c_labels = train_data.query(\"subtask_b == 'TIN'\")[[\"subtask_c\"]]\n",
    "clean_tweets = copy.deepcopy(tweets)"
   ]
  },
  {
   "cell_type": "code",
   "execution_count": null,
   "metadata": {},
   "outputs": [],
   "source": [
    "subtask_c_labels"
   ]
  },
  {
   "cell_type": "code",
   "execution_count": null,
   "metadata": {},
   "outputs": [],
   "source": [
    "clean_tweets"
   ]
  },
  {
   "cell_type": "code",
   "execution_count": null,
   "metadata": {},
   "outputs": [],
   "source": [
    "##PREPROCESSING##"
   ]
  },
  {
   "cell_type": "code",
   "execution_count": null,
   "metadata": {
    "colab": {},
    "colab_type": "code",
    "id": "J3FKc2Kp4MxS"
   },
   "outputs": [],
   "source": []
  },
  {
   "cell_type": "code",
   "execution_count": 6,
   "metadata": {
    "colab": {
     "base_uri": "https://localhost:8080/",
     "height": 50
    },
    "colab_type": "code",
    "id": "EJHU2cRi5SH1",
    "outputId": "7208c3c9-7fc1-4862-e923-89db2eeea598"
   },
   "outputs": [
    {
     "name": "stderr",
     "output_type": "stream",
     "text": [
      "[nltk_data] Downloading package punkt to stopwords...\n",
      "[nltk_data]   Package punkt is already up-to-date!\n"
     ]
    }
   ],
   "source": [
    "import re\n",
    "import nltk\n",
    "nltk.download('punkt', 'stopwords')\n",
    "from nltk.corpus import stopwords\n",
    "from nltk.tokenize import word_tokenize\n",
    "\n",
    "\n",
    "from nltk.stem.lancaster import LancasterStemmer\n",
    "from nltk.stem import PorterStemmer\n",
    "\n",
    "potter_stemmer = PorterStemmer()\n",
    "lancaster_stemmer = LancasterStemmer()\n",
    "\n",
    "from nltk.stem import WordNetLemmatizer\n",
    "wordnet_lemmatizer = WordNetLemmatizer()\n"
   ]
  },
  {
   "cell_type": "code",
   "execution_count": 7,
   "metadata": {
    "colab": {},
    "colab_type": "code",
    "id": "r7qm0EYh5bhB"
   },
   "outputs": [],
   "source": [
    "def take_data_to_shower(tweet):\n",
    "    noises = ['URL', '@USER', '\\'ve', 'n\\'t', '\\'s', '\\'m']\n",
    "\n",
    "    for noise in noises:\n",
    "        tweet = tweet.replace(noise, '')\n",
    "\n",
    "    return re.sub(r'[^a-zA-Z]', ' ', tweet)\n",
    "\n",
    "\n",
    "def tokenize(tweet):\n",
    "    lower_tweet = tweet.lower()\n",
    "    return word_tokenize(lower_tweet)\n",
    "\n",
    "\n",
    "def remove_stop_words(tokens):\n",
    "    clean_tokens = []\n",
    "    stopWords = set(stopwords.words('english'))\n",
    "    for token in tokens:\n",
    "        if token not in stopWords:\n",
    "            if token.replace(' ', '') != '':\n",
    "                if len(token) > 1:\n",
    "                    clean_tokens.append(token)\n",
    "    return clean_tokens\n"
   ]
  },
  {
   "cell_type": "code",
   "execution_count": null,
   "metadata": {},
   "outputs": [],
   "source": []
  },
  {
   "cell_type": "code",
   "execution_count": 8,
   "metadata": {},
   "outputs": [],
   "source": [
    "### Stemming and lemmatizing\n",
    "\n",
    "def lancaster(tokens):\n",
    "    clean_tokens = []\n",
    "    for token in tokens:\n",
    "        token = lancaster_stemmer.stem(token)\n",
    "        if len(token) > 1:\n",
    "            clean_tokens.append(token)\n",
    "    return clean_tokens\n",
    "\n",
    "def potter(tokens):\n",
    "    clean_tokens = []\n",
    "    for token in tokens:\n",
    "        token = potter_stemmer.stem(token)\n",
    "        if len(token) > 1:\n",
    "            clean_tokens.append(token)\n",
    "    return clean_tokens\n",
    "\n",
    "\n",
    "def wordnet(tokens):\n",
    "    clean_tokens = []\n",
    "    for token in tokens:\n",
    "        token = wordnet_lemmatizer.lemmatize(token)\n",
    "        if len(token) > 1:\n",
    "            clean_tokens.append(token)\n",
    "    return clean_tokens\n",
    "\n",
    "def stem_lem(tokens):\n",
    "    clean_tokens = []\n",
    "    for token in tokens:\n",
    "        token = wordnet_lemmatizer.lemmatize(token)\n",
    "        token = potter_stemmer.stem(token)\n",
    "        if len(token) > 1:\n",
    "            clean_tokens.append(token)\n",
    "    return clean_tokens\n"
   ]
  },
  {
   "cell_type": "code",
   "execution_count": 9,
   "metadata": {
    "colab": {
     "base_uri": "https://localhost:8080/",
     "height": 84
    },
    "colab_type": "code",
    "id": "jSwKKcS35gmW",
    "outputId": "d7b0f0e6-2bf1-48fe-d95d-6ab2e74d5573",
    "scrolled": false
   },
   "outputs": [
    {
     "name": "stderr",
     "output_type": "stream",
     "text": [
      "Cleaning Data Phase I...: 100%|███████████████████████████████████████████████| 13240/13240 [00:00<00:00, 93785.24it/s]\n",
      "Tokenizing Data...: 100%|██████████████████████████████████████████████████████| 13240/13240 [00:01<00:00, 7946.83it/s]\n",
      "Cleaning Data Phase II...: 100%|███████████████████████████████████████████████| 13240/13240 [00:03<00:00, 4311.66it/s]\n",
      "Lancaster Stemmer: 100%|███████████████████████████████████████████████████████| 13240/13240 [00:02<00:00, 6377.94it/s]\n",
      "Potter Stemming: 100%|█████████████████████████████████████████████████████████| 13240/13240 [00:02<00:00, 6302.48it/s]\n",
      "Wordnet: 100%|█████████████████████████████████████████████████████████████████| 13240/13240 [00:01<00:00, 6919.21it/s]\n",
      "Wordnet and Potter: 100%|██████████████████████████████████████████████████████| 13240/13240 [00:02<00:00, 5242.88it/s]\n"
     ]
    }
   ],
   "source": [
    "tqdm.pandas(desc=\"Cleaning Data Phase I...\")\n",
    "clean_tweets['tweet'] = tweets['tweet'].progress_apply(take_data_to_shower)\n",
    "\n",
    "tqdm.pandas(desc=\"Tokenizing Data...\")\n",
    "clean_tweets['tokens'] = clean_tweets['tweet'].progress_apply(tokenize)\n",
    "\n",
    "tqdm.pandas(desc=\"Cleaning Data Phase II...\")\n",
    "clean_tweets['tokens'] = clean_tweets['tokens'].progress_apply(remove_stop_words)\n",
    "\n",
    "\n",
    "## basic Pre-priocessing + lancaster Stemmer\n",
    "clean_tweets1 = clean_tweets\n",
    "tqdm.pandas(desc=\"Lancaster Stemmer\")\n",
    "clean_tweets1['tokens'] = clean_tweets['tokens'].progress_apply(lancaster)\n",
    "text_vector1 = clean_tweets1['tokens'].tolist()\n",
    "\n",
    "## basic Pre-priocessing + potter Stemmer\n",
    "clean_tweets2 = clean_tweets\n",
    "tqdm.pandas(desc=\"Potter Stemming\")\n",
    "clean_tweets2['tokens'] = clean_tweets['tokens'].progress_apply(potter)\n",
    "text_vector2 = clean_tweets2['tokens'].tolist()\n",
    "\n",
    "## basic Pre-priocessing + wordnet lemmatizer\n",
    "clean_tweets3 = clean_tweets\n",
    "tqdm.pandas(desc=\"Wordnet\")\n",
    "clean_tweets3['tokens'] = clean_tweets['tokens'].progress_apply(wordnet)\n",
    "text_vector3 = clean_tweets3['tokens'].tolist()\n",
    "\n",
    "## basic Pre-priocessing + spacy lemmatizer\n",
    "clean_tweets4 = clean_tweets\n",
    "tqdm.pandas(desc=\"Wordnet and Potter\")\n",
    "clean_tweets4['tokens'] = clean_tweets['tokens'].progress_apply(stem_lem)\n",
    "text_vector4 = clean_tweets4['tokens'].tolist()\n"
   ]
  },
  {
   "cell_type": "code",
   "execution_count": 10,
   "metadata": {
    "colab": {},
    "colab_type": "code",
    "id": "8Y2fN2MC8Ara"
   },
   "outputs": [],
   "source": [
    "##EMBEDDING##"
   ]
  },
  {
   "cell_type": "code",
   "execution_count": 11,
   "metadata": {
    "colab": {},
    "colab_type": "code",
    "id": "UoVtfyxb5lp3"
   },
   "outputs": [],
   "source": [
    "from sklearn.feature_extraction.text import TfidfVectorizer\n",
    "\n",
    "def tfid(text_vector):\n",
    "    vectorizer = TfidfVectorizer()\n",
    "    untokenized_data =[' '.join(tweet) for tweet in tqdm(text_vector, \"Vectorizing...\")]\n",
    "    vectorizer = vectorizer.fit(untokenized_data)\n",
    "    vectors = vectorizer.transform(untokenized_data).toarray()\n",
    "    return vectors\n",
    "  \n",
    "def get_vectors(vectors, labels, keyword):\n",
    "    if len(vectors) != len(labels):\n",
    "        print(\"Unmatching sizes!\")\n",
    "        return\n",
    "    result = list()\n",
    "    for vector, label in zip(vectors, labels):\n",
    "        if label == keyword:\n",
    "            result.append(vector)\n",
    "    return result"
   ]
  },
  {
   "cell_type": "code",
   "execution_count": 12,
   "metadata": {
    "colab": {
     "base_uri": "https://localhost:8080/",
     "height": 34
    },
    "colab_type": "code",
    "id": "fuA8n1dt7VJe",
    "outputId": "6a9a0365-8a2e-4ac9-dc4f-28083de3f0ab"
   },
   "outputs": [
    {
     "name": "stderr",
     "output_type": "stream",
     "text": [
      "Vectorizing...: 100%|███████████████████████████████████████████████████████| 13240/13240 [00:00<00:00, 1324064.40it/s]\n",
      "Vectorizing...: 100%|███████████████████████████████████████████████████████| 13240/13240 [00:00<00:00, 1654922.67it/s]\n",
      "Vectorizing...: 100%|███████████████████████████████████████████████████████| 13240/13240 [00:00<00:00, 1471100.82it/s]\n",
      "Vectorizing...: 100%|███████████████████████████████████████████████████████| 13240/13240 [00:00<00:00, 1655070.63it/s]\n"
     ]
    }
   ],
   "source": [
    "Vectors = [text_vector1, text_vector2, text_vector3, text_vector4]\n",
    "vectors = [{'a':[], 'c':[]} for i in range(4)]\n",
    "\n",
    "labels_a = subtask_a_labels['subtask_a'].values.tolist() # Subtask A Labels\n",
    "labels_b = subtask_b_labels['subtask_b'].values.tolist() # Subtask B Labels\n",
    "labels_c = subtask_c_labels['subtask_c'].values.tolist() # Subtask C Labels\n",
    "\n",
    "for j in range(4):\n",
    "    vectors[j]['a'] = tfid(Vectors[j]) # Numerical Vectors A\n",
    "    \n",
    "    vectors_b = get_vectors(vectors[j]['a'], labels_a, \"OFF\") # Numerical Vectors B\n",
    "    \n",
    "    vectors[j]['c'] = get_vectors(vectors_b, labels_b, \"TIN\") # Numerical Vectors C\n"
   ]
  },
  {
   "cell_type": "code",
   "execution_count": null,
   "metadata": {},
   "outputs": [],
   "source": []
  },
  {
   "cell_type": "code",
   "execution_count": null,
   "metadata": {},
   "outputs": [],
   "source": []
  },
  {
   "cell_type": "code",
   "execution_count": null,
   "metadata": {
    "colab": {},
    "colab_type": "code",
    "id": "2xxecoX_7dWS"
   },
   "outputs": [],
   "source": [
    "##CLASSIFING##"
   ]
  },
  {
   "cell_type": "code",
   "execution_count": 13,
   "metadata": {
    "colab": {},
    "colab_type": "code",
    "id": "vllyKsR475YC"
   },
   "outputs": [],
   "source": [
    "from sklearn.model_selection import train_test_split\n",
    "\n",
    "from sklearn.neighbors import KNeighborsClassifier\n",
    "from sklearn.svm import SVC\n",
    "from sklearn.ensemble import RandomForestClassifier\n",
    "from sklearn.linear_model import LogisticRegression\n",
    "\n",
    "from sklearn.metrics import accuracy_score, confusion_matrix\n",
    "from sklearn.model_selection import GridSearchCV\n",
    "\n",
    "\n",
    "def classify(train_vectors, test_vectors, train_labels, test_labels, type=\"DT\"):\n",
    "    \n",
    "\n",
    "    # Initialize Model\n",
    "    classifier = None\n",
    "\n",
    "    if(type==\"KNN\"):\n",
    "        classifier = KNeighborsClassifier(n_jobs=4)\n",
    "        params = {'n_neighbors': [3,5], 'weights':['uniform', 'distance']}\n",
    "        classifier = GridSearchCV(classifier, params, cv=3, n_jobs=4)\n",
    "        classifier.fit(train_vectors, train_labels)\n",
    "        classifier = classifier.best_estimator_\n",
    "    elif(type==\"SVM\"):\n",
    "        classifier = SVC()\n",
    "        classifier = GridSearchCV(classifier, {'C':[0.001, 0.01, 0.1]}, cv=3, n_jobs=4)\n",
    "        classifier.fit(train_vectors, train_labels)\n",
    "        classifier = classifier.best_estimator_\n",
    "    elif(type==\"RF\"):\n",
    "        classifier = RandomForestClassifier(max_depth=800, min_samples_split=5)\n",
    "        params = {'n_estimators': [n for n in range(50,200,50)], 'criterion':['gini','entropy'], }\n",
    "        classifier = GridSearchCV(classifier, params, cv=3, n_jobs=4)\n",
    "        classifier.fit(train_vectors, train_labels)\n",
    "        classifier = classifier.best_estimator_\n",
    "    elif(type==\"LR\"):\n",
    "        classifier = LogisticRegression(multi_class='auto', solver='newton-cg',)\n",
    "        classifier = GridSearchCV(classifier, {\"C\":np.logspace(-3,3,7), \"penalty\":[\"l2\"]}, cv=3, n_jobs=4)\n",
    "        classifier.fit(train_vectors, train_labels)\n",
    "        classifier = classifier.best_estimator_\n",
    "    else:\n",
    "        print(\"Wrong Classifier Type!\")\n",
    "        return\n",
    "\n",
    "    Accuracy = {'training':0, 'testing':0}\n",
    "    accuracy = accuracy_score(train_labels, classifier.predict(train_vectors))\n",
    "    print(\"Training Accuracy:\", accuracy*100)\n",
    "    Accuracy['training'] = round(accuracy, 5)*100\n",
    "    test_predictions = classifier.predict(test_vectors)\n",
    "    accuracy = accuracy_score(test_labels, test_predictions)\n",
    "    Accuracy['testing'] = round(accuracy, 5)*100\n",
    "\n",
    "    print(\"Test Accuracy:\", accuracy)\n",
    "    print(\"Confusion Matrix:\", )\n",
    "    print(confusion_matrix(test_labels, test_predictions))\n",
    "    print('\\n\\n')\n",
    "    return Accuracy, confusion_matrix, classifier"
   ]
  },
  {
   "cell_type": "code",
   "execution_count": 18,
   "metadata": {},
   "outputs": [],
   "source": [
    "import pickle"
   ]
  },
  {
   "cell_type": "code",
   "execution_count": 19,
   "metadata": {},
   "outputs": [
    {
     "name": "stdout",
     "output_type": "stream",
     "text": [
      "Running for :  0\n",
      "Running for :  LR : \n",
      "\n",
      "Training Accuracy: 81.14803625377644\n",
      "Test Accuracy: 0.7580060422960725\n",
      "Confusion Matrix:\n",
      "[[2089  129]\n",
      " [ 672  420]]\n",
      "\n",
      "\n",
      "\n",
      "Successful\n",
      "Running for :  RF : \n",
      "\n",
      "Training Accuracy: 99.34541792547836\n",
      "Test Accuracy: 0.7737160120845922\n",
      "Confusion Matrix:\n",
      "[[2081  137]\n",
      " [ 612  480]]\n",
      "\n",
      "\n",
      "\n",
      "Successful\n",
      "Running for :  1\n",
      "Running for :  LR : \n",
      "\n",
      "Training Accuracy: 81.29909365558913\n",
      "Test Accuracy: 0.7558912386706949\n",
      "Confusion Matrix:\n",
      "[[2059  114]\n",
      " [ 694  443]]\n",
      "\n",
      "\n",
      "\n",
      "Successful\n",
      "Running for :  RF : \n",
      "\n",
      "Training Accuracy: 99.45619335347432\n",
      "Test Accuracy: 0.7634441087613293\n",
      "Confusion Matrix:\n",
      "[[2009  164]\n",
      " [ 619  518]]\n",
      "\n",
      "\n",
      "\n",
      "Successful\n",
      "Running for :  2\n",
      "Running for :  LR : \n",
      "\n",
      "Training Accuracy: 92.72910372608257\n",
      "Test Accuracy: 0.7525679758308157\n",
      "Confusion Matrix:\n",
      "[[1948  277]\n",
      " [ 542  543]]\n",
      "\n",
      "\n",
      "\n",
      "Successful\n",
      "Running for :  RF : \n",
      "\n",
      "Training Accuracy: 99.4159113796576\n",
      "Test Accuracy: 0.7667673716012084\n",
      "Confusion Matrix:\n",
      "[[2084  141]\n",
      " [ 631  454]]\n",
      "\n",
      "\n",
      "\n",
      "Successful\n",
      "Running for :  3\n",
      "Running for :  LR : \n",
      "\n",
      "Training Accuracy: 80.83585095669687\n",
      "Test Accuracy: 0.7552870090634441\n",
      "Confusion Matrix:\n",
      "[[2102  101]\n",
      " [ 709  398]]\n",
      "\n",
      "\n",
      "\n",
      "Successful\n",
      "Running for :  RF : \n",
      "\n",
      "Training Accuracy: 99.40584088620342\n",
      "Test Accuracy: 0.7622356495468278\n",
      "Confusion Matrix:\n",
      "[[2069  134]\n",
      " [ 653  454]]\n",
      "\n",
      "\n",
      "\n",
      "Successful\n"
     ]
    }
   ],
   "source": [
    "# Random Splitting With Ratio 3 : 1\n",
    "Accuracy = []\n",
    "for i in range(4):\n",
    "    print(\"Running for : \", i)\n",
    "    train_vectors, test_vectors, train_labels, test_labels = train_test_split(vectors[i]['a'], labels_a[:], test_size=0.25)\n",
    "    algo = [\"LR\", \"RF\"]\n",
    "    Acc = {\"LR\":0, \"RF\":0}\n",
    "    Cm = {\"LR\":0, \"RF\":0}\n",
    "    for j in algo:\n",
    "        print(\"Running for : \", j,': \\n')\n",
    "        acc, cm, classifier = classify(train_vectors, test_vectors, train_labels, test_labels, j) \n",
    "        model_path = j+str(i)+\".model\"\n",
    "        pickle.dump(classifier, open(model_path, \"wb\" ))\n",
    "        print(\"Successful\")\n",
    "        Acc[j]=acc\n",
    "        Cm[j] = cm\n",
    "    Accuracy.append([Acc, Cm])"
   ]
  },
  {
   "cell_type": "code",
   "execution_count": null,
   "metadata": {
    "colab": {
     "base_uri": "https://localhost:8080/",
     "height": 188
    },
    "colab_type": "code",
    "id": "nUc62OmA8KrF",
    "outputId": "af7faf87-d5ff-4c7d-987a-c35c0c3839c2"
   },
   "outputs": [],
   "source": [
    "# Accuracy = []\n",
    "# for i in range(4):\n",
    "#     print(\"Running for : \", i)\n",
    "#     train_vectors, test_vectors, train_labels, test_labels = train_test_split(vectors[i]['a'], labels_a[:], test_size=0.25)\n",
    "#     algo = [\"SVM\", \"KNN\"]\n",
    "#     Acc = {\"SVM\":0, \"KNN\":0, \"classifier\":0}\n",
    "#     Cm = {\"SVM\":0, \"KNN\":0}\n",
    "#     for j in algo:\n",
    "#         print(\"Running for : \", j,': \\n')\n",
    "#         acc, cm, classifier = classify(train_vectors, test_vectors, train_labels, test_labels, j) \n",
    "#         Acc[j]=acc\n",
    "#         Cm[j] = cm\n",
    "#         Acc['classifier':classifier]\n",
    "#     Accuracy.append([Acc, Cm])"
   ]
  },
  {
   "cell_type": "code",
   "execution_count": 23,
   "metadata": {},
   "outputs": [
    {
     "data": {
      "text/plain": [
       "[[{'LR': {'training': 81.148, 'testing': 75.801},\n",
       "   'RF': {'training': 99.345, 'testing': 77.372}},\n",
       "  {'LR': <function sklearn.metrics.classification.confusion_matrix(y_true, y_pred, labels=None, sample_weight=None)>,\n",
       "   'RF': <function sklearn.metrics.classification.confusion_matrix(y_true, y_pred, labels=None, sample_weight=None)>}],\n",
       " [{'LR': {'training': 81.29899999999999, 'testing': 75.589},\n",
       "   'RF': {'training': 99.456, 'testing': 76.344}},\n",
       "  {'LR': <function sklearn.metrics.classification.confusion_matrix(y_true, y_pred, labels=None, sample_weight=None)>,\n",
       "   'RF': <function sklearn.metrics.classification.confusion_matrix(y_true, y_pred, labels=None, sample_weight=None)>}],\n",
       " [{'LR': {'training': 92.729, 'testing': 75.25699999999999},\n",
       "   'RF': {'training': 99.41600000000001, 'testing': 76.67699999999999}},\n",
       "  {'LR': <function sklearn.metrics.classification.confusion_matrix(y_true, y_pred, labels=None, sample_weight=None)>,\n",
       "   'RF': <function sklearn.metrics.classification.confusion_matrix(y_true, y_pred, labels=None, sample_weight=None)>}],\n",
       " [{'LR': {'training': 80.836, 'testing': 75.529},\n",
       "   'RF': {'training': 99.406, 'testing': 76.224}},\n",
       "  {'LR': <function sklearn.metrics.classification.confusion_matrix(y_true, y_pred, labels=None, sample_weight=None)>,\n",
       "   'RF': <function sklearn.metrics.classification.confusion_matrix(y_true, y_pred, labels=None, sample_weight=None)>}]]"
      ]
     },
     "execution_count": 23,
     "metadata": {},
     "output_type": "execute_result"
    }
   ],
   "source": [
    "Accuracy_a = Accuracy\n",
    "Accuracy_a"
   ]
  },
  {
   "cell_type": "code",
   "execution_count": 37,
   "metadata": {},
   "outputs": [
    {
     "data": {
      "text/plain": [
       "[[{'LR': {'training': 81.148, 'testing': 75.801},\n",
       "   'RF': {'training': 99.345, 'testing': 77.372}},\n",
       "  {'LR': <function sklearn.metrics.classification.confusion_matrix(y_true, y_pred, labels=None, sample_weight=None)>,\n",
       "   'RF': <function sklearn.metrics.classification.confusion_matrix(y_true, y_pred, labels=None, sample_weight=None)>}],\n",
       " [{'LR': {'training': 81.29899999999999, 'testing': 75.589},\n",
       "   'RF': {'training': 99.456, 'testing': 76.344}},\n",
       "  {'LR': <function sklearn.metrics.classification.confusion_matrix(y_true, y_pred, labels=None, sample_weight=None)>,\n",
       "   'RF': <function sklearn.metrics.classification.confusion_matrix(y_true, y_pred, labels=None, sample_weight=None)>}],\n",
       " [{'LR': {'training': 92.729, 'testing': 75.25699999999999},\n",
       "   'RF': {'training': 99.41600000000001, 'testing': 76.67699999999999}},\n",
       "  {'LR': <function sklearn.metrics.classification.confusion_matrix(y_true, y_pred, labels=None, sample_weight=None)>,\n",
       "   'RF': <function sklearn.metrics.classification.confusion_matrix(y_true, y_pred, labels=None, sample_weight=None)>}],\n",
       " [{'LR': {'training': 80.836, 'testing': 75.529},\n",
       "   'RF': {'training': 99.406, 'testing': 76.224}},\n",
       "  {'LR': <function sklearn.metrics.classification.confusion_matrix(y_true, y_pred, labels=None, sample_weight=None)>,\n",
       "   'RF': <function sklearn.metrics.classification.confusion_matrix(y_true, y_pred, labels=None, sample_weight=None)>}]]"
      ]
     },
     "execution_count": 37,
     "metadata": {},
     "output_type": "execute_result"
    }
   ],
   "source": [
    "Accuracy_a"
   ]
  },
  {
   "cell_type": "code",
   "execution_count": 24,
   "metadata": {},
   "outputs": [
    {
     "name": "stdout",
     "output_type": "stream",
     "text": [
      "Running for :  0\n",
      "Running for :  LR : \n",
      "\n",
      "Training Accuracy: 79.42896456828346\n",
      "Test Accuracy: 0.6718266253869969\n",
      "Confusion Matrix:\n",
      "[[ 89 170   0]\n",
      " [ 57 562   0]\n",
      " [ 20  71   0]]\n",
      "\n",
      "\n",
      "\n",
      "Successful\n",
      "Running for :  RF : \n",
      "\n",
      "Training Accuracy: 99.62160302717578\n",
      "Test Accuracy: 0.675954592363261\n",
      "Confusion Matrix:\n",
      "[[ 95 163   1]\n",
      " [ 59 558   2]\n",
      " [ 30  59   2]]\n",
      "\n",
      "\n",
      "\n",
      "Successful\n",
      "Running for :  1\n",
      "Running for :  LR : \n",
      "\n",
      "Training Accuracy: 78.87856897144823\n",
      "Test Accuracy: 0.6749226006191951\n",
      "Confusion Matrix:\n",
      "[[103 163   0]\n",
      " [ 56 551   1]\n",
      " [ 30  65   0]]\n",
      "\n",
      "\n",
      "\n",
      "Successful\n",
      "Running for :  RF : \n",
      "\n",
      "Training Accuracy: 99.62160302717578\n",
      "Test Accuracy: 0.672858617131063\n",
      "Confusion Matrix:\n",
      "[[117 149   0]\n",
      " [ 75 533   0]\n",
      " [ 30  63   2]]\n",
      "\n",
      "\n",
      "\n",
      "Successful\n",
      "Running for :  2\n",
      "Running for :  LR : \n",
      "\n",
      "Training Accuracy: 79.36016511867905\n",
      "Test Accuracy: 0.6676986584107327\n",
      "Confusion Matrix:\n",
      "[[ 90 166   0]\n",
      " [ 52 556   3]\n",
      " [ 26  75   1]]\n",
      "\n",
      "\n",
      "\n",
      "Successful\n",
      "Running for :  RF : \n",
      "\n",
      "Training Accuracy: 99.58720330237358\n",
      "Test Accuracy: 0.6811145510835913\n",
      "Confusion Matrix:\n",
      "[[107 149   0]\n",
      " [ 57 553   1]\n",
      " [ 28  74   0]]\n",
      "\n",
      "\n",
      "\n",
      "Successful\n",
      "Running for :  3\n",
      "Running for :  LR : \n",
      "\n",
      "Training Accuracy: 79.18816649466804\n",
      "Test Accuracy: 0.6470588235294118\n",
      "Confusion Matrix:\n",
      "[[ 94 186   0]\n",
      " [ 47 533   2]\n",
      " [ 27  80   0]]\n",
      "\n",
      "\n",
      "\n",
      "Successful\n",
      "Running for :  RF : \n",
      "\n",
      "Training Accuracy: 99.41520467836257\n",
      "Test Accuracy: 0.6635706914344686\n",
      "Confusion Matrix:\n",
      "[[110 170   0]\n",
      " [ 49 533   0]\n",
      " [ 27  80   0]]\n",
      "\n",
      "\n",
      "\n",
      "Successful\n"
     ]
    }
   ],
   "source": [
    "# Random Splitting With Ratio 3 : 1\n",
    "Accuracy1 = []\n",
    "for i in range(4):\n",
    "    print(\"Running for : \", i)\n",
    "    train_vectors, test_vectors, train_labels, test_labels = train_test_split(vectors[i]['c'], labels_c[:], test_size=0.25)\n",
    "    algo = [\"LR\", \"RF\"]\n",
    "    Acc = {\"LR\":0, \"RF\":0}\n",
    "    Cm = {\"LR\":0, \"RF\":0}\n",
    "    for j in algo:\n",
    "        print(\"Running for : \", j,': \\n')\n",
    "        acc, cm, classifier = classify(train_vectors, test_vectors, train_labels, test_labels, j) \n",
    "        model_path = j+str(i)+\"c.model\"\n",
    "        pickle.dump(classifier, open(model_path, \"wb\" ))\n",
    "        print(\"Successful\")\n",
    "        Acc[j]=acc\n",
    "        Cm[j] = cm\n",
    "    Accuracy1.append([Acc, Cm])"
   ]
  },
  {
   "cell_type": "code",
   "execution_count": 41,
   "metadata": {
    "colab": {
     "base_uri": "https://localhost:8080/",
     "height": 222
    },
    "colab_type": "code",
    "id": "ASbewYhr8Yha",
    "outputId": "da461e12-13c6-4c7d-f090-9c37c5eb3bac"
   },
   "outputs": [
    {
     "data": {
      "text/plain": [
       "[[{'LR': {'training': 79.429, 'testing': 67.183},\n",
       "   'RF': {'training': 99.622, 'testing': 67.595}},\n",
       "  {'LR': <function sklearn.metrics.classification.confusion_matrix(y_true, y_pred, labels=None, sample_weight=None)>,\n",
       "   'RF': <function sklearn.metrics.classification.confusion_matrix(y_true, y_pred, labels=None, sample_weight=None)>}],\n",
       " [{'LR': {'training': 78.879, 'testing': 67.49199999999999},\n",
       "   'RF': {'training': 99.622, 'testing': 67.286}},\n",
       "  {'LR': <function sklearn.metrics.classification.confusion_matrix(y_true, y_pred, labels=None, sample_weight=None)>,\n",
       "   'RF': <function sklearn.metrics.classification.confusion_matrix(y_true, y_pred, labels=None, sample_weight=None)>}],\n",
       " [{'LR': {'training': 79.36, 'testing': 66.77},\n",
       "   'RF': {'training': 99.587, 'testing': 68.111}},\n",
       "  {'LR': <function sklearn.metrics.classification.confusion_matrix(y_true, y_pred, labels=None, sample_weight=None)>,\n",
       "   'RF': <function sklearn.metrics.classification.confusion_matrix(y_true, y_pred, labels=None, sample_weight=None)>}],\n",
       " [{'LR': {'training': 79.188, 'testing': 64.706},\n",
       "   'RF': {'training': 99.41499999999999, 'testing': 66.357}},\n",
       "  {'LR': <function sklearn.metrics.classification.confusion_matrix(y_true, y_pred, labels=None, sample_weight=None)>,\n",
       "   'RF': <function sklearn.metrics.classification.confusion_matrix(y_true, y_pred, labels=None, sample_weight=None)>}]]"
      ]
     },
     "execution_count": 41,
     "metadata": {},
     "output_type": "execute_result"
    }
   ],
   "source": [
    "Accuracy1"
   ]
  },
  {
   "cell_type": "code",
   "execution_count": 43,
   "metadata": {
    "colab": {
     "base_uri": "https://localhost:8080/",
     "height": 205
    },
    "colab_type": "code",
    "id": "TAF7Vz3nlWj8",
    "outputId": "3aa22dd2-07e6-4768-ec44-80d18b697687"
   },
   "outputs": [],
   "source": [
    "Accuracyfinal = {'a':Accuracy_a, 'b':Accuracy1}"
   ]
  },
  {
   "cell_type": "code",
   "execution_count": null,
   "metadata": {},
   "outputs": [],
   "source": []
  },
  {
   "cell_type": "code",
   "execution_count": 46,
   "metadata": {
    "colab": {},
    "colab_type": "code",
    "id": "QfhWGl8zCFt3"
   },
   "outputs": [],
   "source": [
    "filename = \"Data.pkl\"\n",
    "output = pickle.load(open(filename, 'rb'))"
   ]
  },
  {
   "cell_type": "code",
   "execution_count": 47,
   "metadata": {},
   "outputs": [
    {
     "data": {
      "text/plain": [
       "{'a': [[{'SVM': {'training': 67.684, 'testing': 68.671},\n",
       "    'KNN': {'training': 70.463, 'testing': 69.063},\n",
       "    'classifier': 0}],\n",
       "  [{'SVM': {'training': 68.218, 'testing': 67.432},\n",
       "    'KNN': {'training': 99.688, 'testing': 68.036},\n",
       "    'classifier': 0}],\n",
       "  [{'SVM': {'training': 68.218, 'testing': 67.10000000000001},\n",
       "    'KNN': {'training': 99.658, 'testing': 67.73400000000001},\n",
       "    'classifier': 0}],\n",
       "  [{'SVM': {'training': 68.05600000000001, 'testing': 67.009},\n",
       "    'KNN': {'training': 96.42500000000001, 'testing': 67.039},\n",
       "    'classifier': 0}]],\n",
       " 'c': [[{'SVM': {'training': 61.988, 'testing': 62.436},\n",
       "    'KNN': {'training': 99.931, 'testing': 62.436},\n",
       "    'classifier': 0}],\n",
       "  [{'SVM': {'training': 62.126000000000005, 'testing': 62.022999999999996},\n",
       "    'KNN': {'training': 62.436, 'testing': 62.022999999999996},\n",
       "    'classifier': 0}],\n",
       "  [{'SVM': {'training': 61.36899999999999, 'testing': 64.293},\n",
       "    'KNN': {'training': 99.897, 'testing': 64.19},\n",
       "    'classifier': 0}],\n",
       "  [{'SVM': {'training': 62.022999999999996, 'testing': 62.332},\n",
       "    'KNN': {'training': 99.931, 'testing': 62.745},\n",
       "    'classifier': 0}]]}"
      ]
     },
     "execution_count": 47,
     "metadata": {},
     "output_type": "execute_result"
    }
   ],
   "source": [
    "output"
   ]
  },
  {
   "cell_type": "code",
   "execution_count": 70,
   "metadata": {},
   "outputs": [],
   "source": [
    "def training(output, a, b, c):\n",
    "    training_SVM_a = []\n",
    "    testing_SVM_a = []\n",
    "    training_SVM_c = []\n",
    "    testing_SVM_c = []\n",
    "\n",
    "    training_KNN_a = []\n",
    "    testing_KNN_a = []\n",
    "    training_KNN_c = []\n",
    "    testing_KNN_c = []\n",
    "    for j in ['a']:\n",
    "        for i in output[j]:\n",
    "            training_SVM_a.append(i[0][a]['training'])\n",
    "            training_KNN_a.append(i[0][b]['training'])\n",
    "\n",
    "            testing_SVM_a.append(i[0][a]['testing'])\n",
    "            testing_KNN_a.append(i[0][b]['testing'])\n",
    "\n",
    "    for j in [c]:\n",
    "        for i in output[j]:\n",
    "            training_SVM_c.append(i[0][a]['training'])\n",
    "            training_KNN_c.append(i[0][b]['training'])\n",
    "\n",
    "            testing_SVM_c.append(i[0][a]['testing'])\n",
    "            testing_KNN_c.append(i[0][b]['testing'])\n",
    "    return training_SVM_a, testing_SVM_a, training_KNN_a, testing_KNN_a, training_SVM_c, testing_SVM_c, training_KNN_c, testing_KNN_c"
   ]
  },
  {
   "cell_type": "code",
   "execution_count": 71,
   "metadata": {},
   "outputs": [],
   "source": [
    "acc1 = [[] for i in range(8)]\n",
    "acc1[0], acc1[1], acc1[2], acc1[3], acc1[4], acc1[5], acc1[6], acc1[7]= training(output, 'SVM', 'KNN', 'c')"
   ]
  },
  {
   "cell_type": "code",
   "execution_count": 72,
   "metadata": {},
   "outputs": [
    {
     "data": {
      "text/plain": [
       "[[67.684, 68.218, 68.218, 68.05600000000001],\n",
       " [68.671, 67.432, 67.10000000000001, 67.009],\n",
       " [70.463, 99.688, 99.658, 96.42500000000001],\n",
       " [69.063, 68.036, 67.73400000000001, 67.039],\n",
       " [61.988, 62.126000000000005, 61.36899999999999, 62.022999999999996],\n",
       " [62.436, 62.022999999999996, 64.293, 62.332],\n",
       " [99.931, 62.436, 99.897, 99.931],\n",
       " [62.436, 62.022999999999996, 64.19, 62.745]]"
      ]
     },
     "execution_count": 72,
     "metadata": {},
     "output_type": "execute_result"
    }
   ],
   "source": [
    "acc1"
   ]
  },
  {
   "cell_type": "code",
   "execution_count": 73,
   "metadata": {},
   "outputs": [],
   "source": [
    "acc2 = [[] for i in range(8)]\n",
    "acc2[0], acc2[1], acc2[2], acc2[3], acc2[4], acc2[5], acc2[6], acc2[7]= training(Accuracyfinal, 'LR', 'RF', 'b')"
   ]
  },
  {
   "cell_type": "code",
   "execution_count": 75,
   "metadata": {},
   "outputs": [
    {
     "data": {
      "text/plain": [
       "[[81.148, 81.29899999999999, 92.729, 80.836],\n",
       " [75.801, 75.589, 75.25699999999999, 75.529],\n",
       " [99.345, 99.456, 99.41600000000001, 99.406],\n",
       " [77.372, 76.344, 76.67699999999999, 76.224],\n",
       " [79.429, 78.879, 79.36, 79.188],\n",
       " [67.183, 67.49199999999999, 66.77, 64.706],\n",
       " [99.622, 99.622, 99.587, 99.41499999999999],\n",
       " [67.595, 67.286, 68.111, 66.357]]"
      ]
     },
     "execution_count": 75,
     "metadata": {},
     "output_type": "execute_result"
    }
   ],
   "source": [
    "acc2"
   ]
  },
  {
   "cell_type": "code",
   "execution_count": 77,
   "metadata": {},
   "outputs": [],
   "source": [
    "import matplotlib.pyplot as plt"
   ]
  },
  {
   "cell_type": "code",
   "execution_count": 88,
   "metadata": {},
   "outputs": [
    {
     "data": {
      "image/png": "[encoded data removed]",
      "text/plain": [
       "<Figure size 432x288 with 1 Axes>"
      ]
     },
     "metadata": {
      "needs_background": "light"
     },
     "output_type": "display_data"
    }
   ],
   "source": [
    "plt.plot(list(range(4)), acc2[0])\n",
    "plt.bar(list(range(4)), acc2[0])\n",
    "plt.ylabel(\"Accuracy for Logistic Regression\")\n",
    "plt.xlabel(\"4 Preprocessing Methods\")\n",
    "plt.title(\"Training Accuracy of LR vs Pre-Processing Techiniques\")\n",
    "plt.show()\n"
   ]
  },
  {
   "cell_type": "code",
   "execution_count": 91,
   "metadata": {},
   "outputs": [
    {
     "data": {
      "image/png": "[encoded data removed]",
      "text/plain": [
       "<Figure size 432x288 with 1 Axes>"
      ]
     },
     "metadata": {
      "needs_background": "light"
     },
     "output_type": "display_data"
    }
   ],
   "source": [
    "plt.plot(list(range(4)), acc1[2])\n",
    "plt.bar(list(range(4)), acc1[2])\n",
    "plt.ylabel(\"Accuracy for KNN\")\n",
    "plt.xlabel(\"4 Preprocessing Methods\")\n",
    "plt.title(\"Training Accuracy of KNN vs Pre-Processing Techiniques\")\n",
    "plt.show()"
   ]
  },
  {
   "cell_type": "code",
   "execution_count": 94,
   "metadata": {},
   "outputs": [
    {
     "data": {
      "image/png": "[encoded data removed]",
      "text/plain": [
       "<Figure size 432x288 with 1 Axes>"
      ]
     },
     "metadata": {
      "needs_background": "light"
     },
     "output_type": "display_data"
    }
   ],
   "source": [
    "plt.plot(list(range(4)), acc1[0])\n",
    "plt.bar(list(range(4)), acc1[0])\n",
    "plt.ylabel(\"Accuracy for SVM\")\n",
    "plt.xlabel(\"4 Preprocessing Methods\")\n",
    "plt.title(\"Training Accuracy of SVM vs Pre-Processing Techiniques\")\n",
    "plt.show()"
   ]
  },
  {
   "cell_type": "code",
   "execution_count": 95,
   "metadata": {},
   "outputs": [
    {
     "data": {
      "image/png": "[encoded data removed]",
      "text/plain": [
       "<Figure size 432x288 with 1 Axes>"
      ]
     },
     "metadata": {
      "needs_background": "light"
     },
     "output_type": "display_data"
    }
   ],
   "source": [
    "plt.plot(list(range(4)), acc2[2])\n",
    "plt.bar(list(range(4)), acc2[2])\n",
    "plt.ylabel(\"Accuracy for RF\")\n",
    "plt.xlabel(\"4 Preprocessing Methods\")\n",
    "plt.title(\"Training Accuracy of RF vs Pre-Processing Techiniques\")\n",
    "plt.show()"
   ]
  },
  {
   "cell_type": "code",
   "execution_count": 97,
   "metadata": {
    "scrolled": false
   },
   "outputs": [
    {
     "data": {
      "text/plain": [
       "[68.218, 99.658, 92.729, 99.41600000000001]"
      ]
     },
     "execution_count": 97,
     "metadata": {},
     "output_type": "execute_result"
    }
   ],
   "source": [
    "algo = [acc1[0][2], acc1[2][2], acc2[0][2], acc2[2][2]]\n",
    "algo"
   ]
  },
  {
   "cell_type": "code",
   "execution_count": 100,
   "metadata": {},
   "outputs": [
    {
     "data": {
      "image/png": "[encoded data removed]",
      "text/plain": [
       "<Figure size 432x288 with 1 Axes>"
      ]
     },
     "metadata": {
      "needs_background": "light"
     },
     "output_type": "display_data"
    }
   ],
   "source": [
    "plt.plot(list(range(4)), algo)\n",
    "plt.bar(list(range(4)), algo)\n",
    "plt.ylabel(\"Accuracy\")\n",
    "plt.xlabel(\"4 Preprocessing Methods\")\n",
    "plt.title(\"Accuracy for LR & RF & SVM & RF\")\n",
    "plt.show()"
   ]
  },
  {
   "cell_type": "code",
   "execution_count": 102,
   "metadata": {},
   "outputs": [
    {
     "data": {
      "text/html": [
       "<div>\n",
       "<style scoped>\n",
       "    .dataframe tbody tr th:only-of-type {\n",
       "        vertical-align: middle;\n",
       "    }\n",
       "\n",
       "    .dataframe tbody tr th {\n",
       "        vertical-align: top;\n",
       "    }\n",
       "\n",
       "    .dataframe thead th {\n",
       "        text-align: right;\n",
       "    }\n",
       "</style>\n",
       "<table border=\"1\" class=\"dataframe\">\n",
       "  <thead>\n",
       "    <tr style=\"text-align: right;\">\n",
       "      <th></th>\n",
       "      <th>SVM</th>\n",
       "      <th>KNN</th>\n",
       "      <th>LR</th>\n",
       "      <th>RF</th>\n",
       "    </tr>\n",
       "  </thead>\n",
       "  <tbody>\n",
       "    <tr>\n",
       "      <th>0</th>\n",
       "      <td>81.148</td>\n",
       "      <td>99.345</td>\n",
       "      <td>67.684</td>\n",
       "      <td>70.463</td>\n",
       "    </tr>\n",
       "    <tr>\n",
       "      <th>1</th>\n",
       "      <td>81.299</td>\n",
       "      <td>99.456</td>\n",
       "      <td>68.218</td>\n",
       "      <td>99.688</td>\n",
       "    </tr>\n",
       "    <tr>\n",
       "      <th>2</th>\n",
       "      <td>92.729</td>\n",
       "      <td>99.416</td>\n",
       "      <td>68.218</td>\n",
       "      <td>99.658</td>\n",
       "    </tr>\n",
       "    <tr>\n",
       "      <th>3</th>\n",
       "      <td>80.836</td>\n",
       "      <td>99.406</td>\n",
       "      <td>68.056</td>\n",
       "      <td>96.425</td>\n",
       "    </tr>\n",
       "  </tbody>\n",
       "</table>\n",
       "</div>"
      ],
      "text/plain": [
       "      SVM     KNN      LR      RF\n",
       "0  81.148  99.345  67.684  70.463\n",
       "1  81.299  99.456  68.218  99.688\n",
       "2  92.729  99.416  68.218  99.658\n",
       "3  80.836  99.406  68.056  96.425"
      ]
     },
     "execution_count": 102,
     "metadata": {},
     "output_type": "execute_result"
    }
   ],
   "source": [
    "data = {'Support vector Machine': acc2[0], 'KNearestNeighbors':acc2[2], 'Logistic Regression':acc1[0], 'Random Forest': acc1[2]} \n",
    "new = pd.DataFrame.from_dict(data)\n",
    "new.index = ['Row_1', 'Row_2', 'Row_3', 'Row_4']"
   ]
  }
 ],
 "metadata": {
  "accelerator": "GPU",
  "colab": {
   "collapsed_sections": [],
   "name": "Offensive_tweets.ipynb",
   "provenance": [],
   "version": "0.3.2"
  },
  "kernelspec": {
   "display_name": "Python 3 (ipykernel)",
   "language": "python",
   "name": "python3"
  },
  "language_info": {
   "codemirror_mode": {
    "name": "ipython",
    "version": 3
   },
   "file_extension": ".py",
   "mimetype": "text/x-python",
   "name": "python",
   "nbconvert_exporter": "python",
   "pygments_lexer": "ipython3",
   "version": "3.7.3"
  }
 },
 "nbformat": 4,
 "nbformat_minor": 1
}
